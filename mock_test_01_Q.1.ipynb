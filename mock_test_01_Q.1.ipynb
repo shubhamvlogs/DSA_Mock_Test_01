{
 "cells": [
  {
   "attachments": {},
   "cell_type": "markdown",
   "metadata": {},
   "source": [
    "Move Zeroes\n",
    "Q.1 - Given an integer array nums, move all 0's to the end of it while maintaining the relative order of the non-zero elements.\n",
    "\n",
    "Note that you must do this in-place without making a copy of the array.\n",
    "\n",
    "Example 1:\n",
    "Input: nums = [0,1,0,3,12]\n",
    "Output: [1,3,12,0,0]\n",
    "\n",
    "Example 2:\n",
    "Input: nums = [0]\n",
    "Output: [0]\n",
    "\n",
    "Constraints:\n",
    "a. 1 <= nums.length <= 10^4\n",
    "b. -2^31 <= nums[i] <= 2^31 - 1"
   ]
  },
  {
   "attachments": {},
   "cell_type": "markdown",
   "metadata": {},
   "source": [
    "Let's analyze the algorithm with given above  examples using two pointer approach method"
   ]
  },
  {
   "cell_type": "code",
   "execution_count": 1,
   "metadata": {},
   "outputs": [
    {
     "name": "stdout",
     "output_type": "stream",
     "text": [
      "[1, 3, 12, 0, 0]\n"
     ]
    }
   ],
   "source": [
    "## Example 1  Answer\n",
    "def move_zeros(nums):\n",
    "  \"\"\"\n",
    "  Moves all 0's to the end of the array while maintaining the relative order of the non-zero elements.\n",
    "\n",
    "  Args:\n",
    "    nums: The input array.\n",
    "\n",
    "  Returns:\n",
    "    The modified array.\n",
    "  \"\"\"\n",
    "\n",
    "  i = 0\n",
    "  j = 0\n",
    "  while i < len(nums):\n",
    "    if nums[i] != 0:\n",
    "      nums[j] = nums[i]\n",
    "      j += 1\n",
    "    i += 1\n",
    "\n",
    "  while j < len(nums):\n",
    "    nums[j] = 0\n",
    "    j += 1\n",
    "\n",
    "  return nums\n",
    "\n",
    "\n",
    "def main():\n",
    "  nums = [0, 1, 0, 3, 12]\n",
    "  \n",
    "  print(move_zeros(nums))\n",
    "\n",
    "\n",
    "if __name__ == \"__main__\":\n",
    "  main()\n"
   ]
  },
  {
   "cell_type": "code",
   "execution_count": 3,
   "metadata": {},
   "outputs": [
    {
     "name": "stdout",
     "output_type": "stream",
     "text": [
      "[0]\n"
     ]
    }
   ],
   "source": [
    "## Example 2  Answer\n",
    "nums = [0]\n",
    "move_zeros(nums)\n",
    "print(nums)\n"
   ]
  },
  {
   "cell_type": "code",
   "execution_count": null,
   "metadata": {},
   "outputs": [],
   "source": []
  }
 ],
 "metadata": {
  "kernelspec": {
   "display_name": "Python 3",
   "language": "python",
   "name": "python3"
  },
  "language_info": {
   "codemirror_mode": {
    "name": "ipython",
    "version": 3
   },
   "file_extension": ".py",
   "mimetype": "text/x-python",
   "name": "python",
   "nbconvert_exporter": "python",
   "pygments_lexer": "ipython3",
   "version": "3.10.8"
  },
  "orig_nbformat": 4
 },
 "nbformat": 4,
 "nbformat_minor": 2
}
