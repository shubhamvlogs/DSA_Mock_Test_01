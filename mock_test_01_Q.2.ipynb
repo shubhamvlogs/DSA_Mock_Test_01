{
 "cells": [
  {
   "attachments": {},
   "cell_type": "markdown",
   "metadata": {},
   "source": [
    "First Unique Character in a String\n",
    "\n",
    "Q.2-Given a string s, find the first non-repeating character in it and return its index. If it does not exist, return -1.\n",
    "\n",
    "Example 1:\n",
    "Input: s = \"leetcode\"\n",
    "Output: 0\n",
    "\n",
    "Example 2:\n",
    "Input: s = \"loveleetcode\"\n",
    "Output: 2\n",
    "\n",
    "Example 3:\n",
    "Input: s = \"aabb\"\n",
    "Output: -1\n",
    "\n",
    "Constraints:\n",
    "a. 1 <= s.length <= 10^5\n",
    "b. s consists of only lowercase English letters."
   ]
  },
  {
   "attachments": {},
   "cell_type": "markdown",
   "metadata": {},
   "source": [
    "lets use hashmap to store the each character of a string to solve this question"
   ]
  },
  {
   "cell_type": "code",
   "execution_count": 2,
   "metadata": {},
   "outputs": [
    {
     "name": "stdout",
     "output_type": "stream",
     "text": [
      "0\n"
     ]
    }
   ],
   "source": [
    "## Example 1 Answer\n",
    "def first_unique_character(s):\n",
    "  \"\"\"\n",
    "  Finds the first non-repeating character in the string s and returns its index.\n",
    "\n",
    "  Args:\n",
    "    s: The input string.\n",
    "\n",
    "  Returns:\n",
    "    The index of the first non-repeating character, or -1 if it does not exist.\n",
    "  \"\"\"\n",
    "\n",
    "  char_counts = {}\n",
    "  for i, char in enumerate(s):\n",
    "    if char not in char_counts:\n",
    "      char_counts[char] = 1\n",
    "    else:\n",
    "      char_counts[char] += 1\n",
    "\n",
    "  for i, char in enumerate(s):\n",
    "    if char_counts[char] == 1:\n",
    "      return i\n",
    "\n",
    "  return -1\n",
    "\n",
    "\n",
    "def main():\n",
    "  s = \"leetcode\"\n",
    "  print(first_unique_character(s))\n",
    "\n",
    "\n",
    "if __name__ == \"__main__\":\n",
    "  main()\n"
   ]
  },
  {
   "attachments": {},
   "cell_type": "markdown",
   "metadata": {},
   "source": [
    "Apply above function on below example to get the desired output for example2"
   ]
  },
  {
   "cell_type": "code",
   "execution_count": 5,
   "metadata": {},
   "outputs": [
    {
     "name": "stdout",
     "output_type": "stream",
     "text": [
      "2\n"
     ]
    }
   ],
   "source": [
    " ## Example 2 Answer\n",
    " s = \"loveleetcode\"\n",
    " first_unique_character(s)\n",
    " print( first_unique_character(s))"
   ]
  },
  {
   "attachments": {},
   "cell_type": "markdown",
   "metadata": {},
   "source": [
    "Apply above function on below example to get the desired output for example3"
   ]
  },
  {
   "cell_type": "code",
   "execution_count": 7,
   "metadata": {},
   "outputs": [
    {
     "name": "stdout",
     "output_type": "stream",
     "text": [
      "-1\n"
     ]
    }
   ],
   "source": [
    "## Example 3 Answer\n",
    "s = \"aabb\"\n",
    "first_unique_character(s)\n",
    "print(first_unique_character(s))"
   ]
  },
  {
   "cell_type": "code",
   "execution_count": null,
   "metadata": {},
   "outputs": [],
   "source": []
  }
 ],
 "metadata": {
  "kernelspec": {
   "display_name": "Python 3",
   "language": "python",
   "name": "python3"
  },
  "language_info": {
   "codemirror_mode": {
    "name": "ipython",
    "version": 3
   },
   "file_extension": ".py",
   "mimetype": "text/x-python",
   "name": "python",
   "nbconvert_exporter": "python",
   "pygments_lexer": "ipython3",
   "version": "3.10.8"
  },
  "orig_nbformat": 4
 },
 "nbformat": 4,
 "nbformat_minor": 2
}
